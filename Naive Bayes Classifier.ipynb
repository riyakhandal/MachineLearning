{
 "cells": [
  {
   "cell_type": "code",
   "execution_count": 1,
   "id": "54b4741c",
   "metadata": {},
   "outputs": [],
   "source": [
    "import pandas as pd\n",
    "import numpy as np\n",
    "import matplotlib.pyplot as plt\n",
    "%matplotlib inline"
   ]
  },
  {
   "cell_type": "code",
   "execution_count": 2,
   "id": "87ebd9c9",
   "metadata": {},
   "outputs": [],
   "source": [
    "from sklearn.model_selection import train_test_split\n",
    "from sklearn.naive_bayes import GaussianNB\n",
    "from sklearn.model_selection import cross_val_score\n",
    "from sklearn.metrics import accuracy_score"
   ]
  },
  {
   "cell_type": "code",
   "execution_count": 3,
   "id": "53d036b9",
   "metadata": {},
   "outputs": [],
   "source": [
    "df = pd.read_csv('gender.csv')"
   ]
  },
  {
   "cell_type": "code",
   "execution_count": 4,
   "id": "6851a597",
   "metadata": {},
   "outputs": [
    {
     "data": {
      "text/html": [
       "<div>\n",
       "<style scoped>\n",
       "    .dataframe tbody tr th:only-of-type {\n",
       "        vertical-align: middle;\n",
       "    }\n",
       "\n",
       "    .dataframe tbody tr th {\n",
       "        vertical-align: top;\n",
       "    }\n",
       "\n",
       "    .dataframe thead th {\n",
       "        text-align: right;\n",
       "    }\n",
       "</style>\n",
       "<table border=\"1\" class=\"dataframe\">\n",
       "  <thead>\n",
       "    <tr style=\"text-align: right;\">\n",
       "      <th></th>\n",
       "      <th>Gender</th>\n",
       "      <th>Age</th>\n",
       "      <th>Height (cm)</th>\n",
       "      <th>Weight (kg)</th>\n",
       "      <th>Occupation</th>\n",
       "      <th>Education Level</th>\n",
       "      <th>Marital Status</th>\n",
       "      <th>Income (USD)</th>\n",
       "      <th>Favorite Color</th>\n",
       "      <th>Unnamed: 9</th>\n",
       "    </tr>\n",
       "  </thead>\n",
       "  <tbody>\n",
       "    <tr>\n",
       "      <th>0</th>\n",
       "      <td>male</td>\n",
       "      <td>32</td>\n",
       "      <td>175</td>\n",
       "      <td>70</td>\n",
       "      <td>Software Engineer</td>\n",
       "      <td>Master's Degree</td>\n",
       "      <td>Married</td>\n",
       "      <td>75000</td>\n",
       "      <td>Blue</td>\n",
       "      <td>NaN</td>\n",
       "    </tr>\n",
       "    <tr>\n",
       "      <th>1</th>\n",
       "      <td>male</td>\n",
       "      <td>25</td>\n",
       "      <td>182</td>\n",
       "      <td>85</td>\n",
       "      <td>Sales Representative</td>\n",
       "      <td>Bachelor's Degree</td>\n",
       "      <td>Single</td>\n",
       "      <td>45000</td>\n",
       "      <td>Green</td>\n",
       "      <td>NaN</td>\n",
       "    </tr>\n",
       "    <tr>\n",
       "      <th>2</th>\n",
       "      <td>female</td>\n",
       "      <td>41</td>\n",
       "      <td>160</td>\n",
       "      <td>62</td>\n",
       "      <td>Doctor</td>\n",
       "      <td>Doctorate Degree</td>\n",
       "      <td>Married</td>\n",
       "      <td>120000</td>\n",
       "      <td>Purple</td>\n",
       "      <td>NaN</td>\n",
       "    </tr>\n",
       "    <tr>\n",
       "      <th>3</th>\n",
       "      <td>male</td>\n",
       "      <td>38</td>\n",
       "      <td>178</td>\n",
       "      <td>79</td>\n",
       "      <td>Lawyer</td>\n",
       "      <td>Bachelor's Degree</td>\n",
       "      <td>Single</td>\n",
       "      <td>90000</td>\n",
       "      <td>Red</td>\n",
       "      <td>NaN</td>\n",
       "    </tr>\n",
       "    <tr>\n",
       "      <th>4</th>\n",
       "      <td>female</td>\n",
       "      <td>29</td>\n",
       "      <td>165</td>\n",
       "      <td>58</td>\n",
       "      <td>Graphic Designer</td>\n",
       "      <td>Associate's Degree</td>\n",
       "      <td>Single</td>\n",
       "      <td>35000</td>\n",
       "      <td>Yellow</td>\n",
       "      <td>NaN</td>\n",
       "    </tr>\n",
       "  </tbody>\n",
       "</table>\n",
       "</div>"
      ],
      "text/plain": [
       "    Gender   Age   Height (cm)   Weight (kg)             Occupation  \\\n",
       "0     male    32           175            70      Software Engineer   \n",
       "1     male    25           182            85   Sales Representative   \n",
       "2   female    41           160            62                 Doctor   \n",
       "3     male    38           178            79                 Lawyer   \n",
       "4   female    29           165            58       Graphic Designer   \n",
       "\n",
       "       Education Level  Marital Status   Income (USD)  Favorite Color  \\\n",
       "0      Master's Degree         Married          75000            Blue   \n",
       "1    Bachelor's Degree          Single          45000           Green   \n",
       "2     Doctorate Degree         Married         120000          Purple   \n",
       "3    Bachelor's Degree          Single          90000             Red   \n",
       "4   Associate's Degree          Single          35000          Yellow   \n",
       "\n",
       "   Unnamed: 9  \n",
       "0         NaN  \n",
       "1         NaN  \n",
       "2         NaN  \n",
       "3         NaN  \n",
       "4         NaN  "
      ]
     },
     "execution_count": 4,
     "metadata": {},
     "output_type": "execute_result"
    }
   ],
   "source": [
    "df.head()"
   ]
  },
  {
   "cell_type": "code",
   "execution_count": 5,
   "id": "826169dc",
   "metadata": {},
   "outputs": [
    {
     "data": {
      "text/plain": [
       "(131, 10)"
      ]
     },
     "execution_count": 5,
     "metadata": {},
     "output_type": "execute_result"
    }
   ],
   "source": [
    "df.shape"
   ]
  },
  {
   "cell_type": "code",
   "execution_count": 6,
   "id": "a42662a8",
   "metadata": {},
   "outputs": [
    {
     "data": {
      "text/plain": [
       " Gender               0\n",
       " Age                  0\n",
       " Height (cm)          0\n",
       " Weight (kg)          0\n",
       " Occupation           0\n",
       " Education Level      0\n",
       " Marital Status       0\n",
       " Income (USD)         0\n",
       " Favorite Color       0\n",
       "Unnamed: 9          131\n",
       "dtype: int64"
      ]
     },
     "execution_count": 6,
     "metadata": {},
     "output_type": "execute_result"
    }
   ],
   "source": [
    "df.isnull().sum()"
   ]
  },
  {
   "cell_type": "code",
   "execution_count": 7,
   "id": "a27235a6",
   "metadata": {},
   "outputs": [],
   "source": [
    "df.columns = [i.strip() for i in df.columns]"
   ]
  },
  {
   "cell_type": "code",
   "execution_count": 8,
   "id": "7ed2261e",
   "metadata": {},
   "outputs": [],
   "source": [
    "df.drop(['Unnamed: 9'], axis=1, inplace = True)"
   ]
  },
  {
   "cell_type": "code",
   "execution_count": 9,
   "id": "dcd9c826",
   "metadata": {},
   "outputs": [],
   "source": [
    "numeric_cols = [i for i in df.columns if(df[i].dtype in ['int64' ,'float64'])]\n",
    "cat_col = [i for i in df.columns if i not in numeric_cols]\n",
    "for i in cat_col:\n",
    "    df[i] = [c.strip() for c in df[i]]"
   ]
  },
  {
   "cell_type": "code",
   "execution_count": 10,
   "id": "e91a523c",
   "metadata": {},
   "outputs": [],
   "source": [
    "data = pd.get_dummies(df , drop_first = True)"
   ]
  },
  {
   "cell_type": "code",
   "execution_count": 11,
   "id": "90aec66d",
   "metadata": {},
   "outputs": [
    {
     "data": {
      "text/html": [
       "<div>\n",
       "<style scoped>\n",
       "    .dataframe tbody tr th:only-of-type {\n",
       "        vertical-align: middle;\n",
       "    }\n",
       "\n",
       "    .dataframe tbody tr th {\n",
       "        vertical-align: top;\n",
       "    }\n",
       "\n",
       "    .dataframe thead th {\n",
       "        text-align: right;\n",
       "    }\n",
       "</style>\n",
       "<table border=\"1\" class=\"dataframe\">\n",
       "  <thead>\n",
       "    <tr style=\"text-align: right;\">\n",
       "      <th></th>\n",
       "      <th>Age</th>\n",
       "      <th>Height (cm)</th>\n",
       "      <th>Weight (kg)</th>\n",
       "      <th>Income (USD)</th>\n",
       "      <th>Gender_male</th>\n",
       "      <th>Occupation_Analyst</th>\n",
       "      <th>Occupation_Architect</th>\n",
       "      <th>Occupation_Business Analyst</th>\n",
       "      <th>Occupation_Business Consultant</th>\n",
       "      <th>Occupation_CEO</th>\n",
       "      <th>...</th>\n",
       "      <th>Marital Status_Single</th>\n",
       "      <th>Marital Status_Widowed</th>\n",
       "      <th>Favorite Color_Blue</th>\n",
       "      <th>Favorite Color_Green</th>\n",
       "      <th>Favorite Color_Grey</th>\n",
       "      <th>Favorite Color_Orange</th>\n",
       "      <th>Favorite Color_Pink</th>\n",
       "      <th>Favorite Color_Purple</th>\n",
       "      <th>Favorite Color_Red</th>\n",
       "      <th>Favorite Color_Yellow</th>\n",
       "    </tr>\n",
       "  </thead>\n",
       "  <tbody>\n",
       "    <tr>\n",
       "      <th>0</th>\n",
       "      <td>32</td>\n",
       "      <td>175</td>\n",
       "      <td>70</td>\n",
       "      <td>75000</td>\n",
       "      <td>1</td>\n",
       "      <td>0</td>\n",
       "      <td>0</td>\n",
       "      <td>0</td>\n",
       "      <td>0</td>\n",
       "      <td>0</td>\n",
       "      <td>...</td>\n",
       "      <td>0</td>\n",
       "      <td>0</td>\n",
       "      <td>1</td>\n",
       "      <td>0</td>\n",
       "      <td>0</td>\n",
       "      <td>0</td>\n",
       "      <td>0</td>\n",
       "      <td>0</td>\n",
       "      <td>0</td>\n",
       "      <td>0</td>\n",
       "    </tr>\n",
       "    <tr>\n",
       "      <th>1</th>\n",
       "      <td>25</td>\n",
       "      <td>182</td>\n",
       "      <td>85</td>\n",
       "      <td>45000</td>\n",
       "      <td>1</td>\n",
       "      <td>0</td>\n",
       "      <td>0</td>\n",
       "      <td>0</td>\n",
       "      <td>0</td>\n",
       "      <td>0</td>\n",
       "      <td>...</td>\n",
       "      <td>1</td>\n",
       "      <td>0</td>\n",
       "      <td>0</td>\n",
       "      <td>1</td>\n",
       "      <td>0</td>\n",
       "      <td>0</td>\n",
       "      <td>0</td>\n",
       "      <td>0</td>\n",
       "      <td>0</td>\n",
       "      <td>0</td>\n",
       "    </tr>\n",
       "    <tr>\n",
       "      <th>2</th>\n",
       "      <td>41</td>\n",
       "      <td>160</td>\n",
       "      <td>62</td>\n",
       "      <td>120000</td>\n",
       "      <td>0</td>\n",
       "      <td>0</td>\n",
       "      <td>0</td>\n",
       "      <td>0</td>\n",
       "      <td>0</td>\n",
       "      <td>0</td>\n",
       "      <td>...</td>\n",
       "      <td>0</td>\n",
       "      <td>0</td>\n",
       "      <td>0</td>\n",
       "      <td>0</td>\n",
       "      <td>0</td>\n",
       "      <td>0</td>\n",
       "      <td>0</td>\n",
       "      <td>1</td>\n",
       "      <td>0</td>\n",
       "      <td>0</td>\n",
       "    </tr>\n",
       "    <tr>\n",
       "      <th>3</th>\n",
       "      <td>38</td>\n",
       "      <td>178</td>\n",
       "      <td>79</td>\n",
       "      <td>90000</td>\n",
       "      <td>1</td>\n",
       "      <td>0</td>\n",
       "      <td>0</td>\n",
       "      <td>0</td>\n",
       "      <td>0</td>\n",
       "      <td>0</td>\n",
       "      <td>...</td>\n",
       "      <td>1</td>\n",
       "      <td>0</td>\n",
       "      <td>0</td>\n",
       "      <td>0</td>\n",
       "      <td>0</td>\n",
       "      <td>0</td>\n",
       "      <td>0</td>\n",
       "      <td>0</td>\n",
       "      <td>1</td>\n",
       "      <td>0</td>\n",
       "    </tr>\n",
       "    <tr>\n",
       "      <th>4</th>\n",
       "      <td>29</td>\n",
       "      <td>165</td>\n",
       "      <td>58</td>\n",
       "      <td>35000</td>\n",
       "      <td>0</td>\n",
       "      <td>0</td>\n",
       "      <td>0</td>\n",
       "      <td>0</td>\n",
       "      <td>0</td>\n",
       "      <td>0</td>\n",
       "      <td>...</td>\n",
       "      <td>1</td>\n",
       "      <td>0</td>\n",
       "      <td>0</td>\n",
       "      <td>0</td>\n",
       "      <td>0</td>\n",
       "      <td>0</td>\n",
       "      <td>0</td>\n",
       "      <td>0</td>\n",
       "      <td>0</td>\n",
       "      <td>1</td>\n",
       "    </tr>\n",
       "  </tbody>\n",
       "</table>\n",
       "<p>5 rows × 37 columns</p>\n",
       "</div>"
      ],
      "text/plain": [
       "   Age  Height (cm)  Weight (kg)  Income (USD)  Gender_male  \\\n",
       "0   32          175           70         75000            1   \n",
       "1   25          182           85         45000            1   \n",
       "2   41          160           62        120000            0   \n",
       "3   38          178           79         90000            1   \n",
       "4   29          165           58         35000            0   \n",
       "\n",
       "   Occupation_Analyst  Occupation_Architect  Occupation_Business Analyst  \\\n",
       "0                   0                     0                            0   \n",
       "1                   0                     0                            0   \n",
       "2                   0                     0                            0   \n",
       "3                   0                     0                            0   \n",
       "4                   0                     0                            0   \n",
       "\n",
       "   Occupation_Business Consultant  Occupation_CEO  ...  Marital Status_Single  \\\n",
       "0                               0               0  ...                      0   \n",
       "1                               0               0  ...                      1   \n",
       "2                               0               0  ...                      0   \n",
       "3                               0               0  ...                      1   \n",
       "4                               0               0  ...                      1   \n",
       "\n",
       "   Marital Status_Widowed  Favorite Color_Blue  Favorite Color_Green  \\\n",
       "0                       0                    1                     0   \n",
       "1                       0                    0                     1   \n",
       "2                       0                    0                     0   \n",
       "3                       0                    0                     0   \n",
       "4                       0                    0                     0   \n",
       "\n",
       "   Favorite Color_Grey  Favorite Color_Orange  Favorite Color_Pink  \\\n",
       "0                    0                      0                    0   \n",
       "1                    0                      0                    0   \n",
       "2                    0                      0                    0   \n",
       "3                    0                      0                    0   \n",
       "4                    0                      0                    0   \n",
       "\n",
       "   Favorite Color_Purple  Favorite Color_Red  Favorite Color_Yellow  \n",
       "0                      0                   0                      0  \n",
       "1                      0                   0                      0  \n",
       "2                      1                   0                      0  \n",
       "3                      0                   1                      0  \n",
       "4                      0                   0                      1  \n",
       "\n",
       "[5 rows x 37 columns]"
      ]
     },
     "execution_count": 11,
     "metadata": {},
     "output_type": "execute_result"
    }
   ],
   "source": [
    "data.head()"
   ]
  },
  {
   "cell_type": "code",
   "execution_count": 12,
   "id": "cefbe0b4",
   "metadata": {},
   "outputs": [],
   "source": [
    "X = data.drop(['Gender_male'], axis = 1)"
   ]
  },
  {
   "cell_type": "code",
   "execution_count": 13,
   "id": "4d661747",
   "metadata": {},
   "outputs": [],
   "source": [
    "y = data['Gender_male']"
   ]
  },
  {
   "cell_type": "code",
   "execution_count": 14,
   "id": "334029a5",
   "metadata": {},
   "outputs": [],
   "source": [
    "X_train, X_test, y_train, y_test = train_test_split(X, y, test_size = 0.2, random_state = 42)"
   ]
  },
  {
   "cell_type": "code",
   "execution_count": 15,
   "id": "2b4dce78",
   "metadata": {},
   "outputs": [],
   "source": [
    "model = GaussianNB()"
   ]
  },
  {
   "cell_type": "code",
   "execution_count": 16,
   "id": "de69a360",
   "metadata": {},
   "outputs": [
    {
     "data": {
      "text/html": [
       "<style>#sk-container-id-1 {color: black;background-color: white;}#sk-container-id-1 pre{padding: 0;}#sk-container-id-1 div.sk-toggleable {background-color: white;}#sk-container-id-1 label.sk-toggleable__label {cursor: pointer;display: block;width: 100%;margin-bottom: 0;padding: 0.3em;box-sizing: border-box;text-align: center;}#sk-container-id-1 label.sk-toggleable__label-arrow:before {content: \"▸\";float: left;margin-right: 0.25em;color: #696969;}#sk-container-id-1 label.sk-toggleable__label-arrow:hover:before {color: black;}#sk-container-id-1 div.sk-estimator:hover label.sk-toggleable__label-arrow:before {color: black;}#sk-container-id-1 div.sk-toggleable__content {max-height: 0;max-width: 0;overflow: hidden;text-align: left;background-color: #f0f8ff;}#sk-container-id-1 div.sk-toggleable__content pre {margin: 0.2em;color: black;border-radius: 0.25em;background-color: #f0f8ff;}#sk-container-id-1 input.sk-toggleable__control:checked~div.sk-toggleable__content {max-height: 200px;max-width: 100%;overflow: auto;}#sk-container-id-1 input.sk-toggleable__control:checked~label.sk-toggleable__label-arrow:before {content: \"▾\";}#sk-container-id-1 div.sk-estimator input.sk-toggleable__control:checked~label.sk-toggleable__label {background-color: #d4ebff;}#sk-container-id-1 div.sk-label input.sk-toggleable__control:checked~label.sk-toggleable__label {background-color: #d4ebff;}#sk-container-id-1 input.sk-hidden--visually {border: 0;clip: rect(1px 1px 1px 1px);clip: rect(1px, 1px, 1px, 1px);height: 1px;margin: -1px;overflow: hidden;padding: 0;position: absolute;width: 1px;}#sk-container-id-1 div.sk-estimator {font-family: monospace;background-color: #f0f8ff;border: 1px dotted black;border-radius: 0.25em;box-sizing: border-box;margin-bottom: 0.5em;}#sk-container-id-1 div.sk-estimator:hover {background-color: #d4ebff;}#sk-container-id-1 div.sk-parallel-item::after {content: \"\";width: 100%;border-bottom: 1px solid gray;flex-grow: 1;}#sk-container-id-1 div.sk-label:hover label.sk-toggleable__label {background-color: #d4ebff;}#sk-container-id-1 div.sk-serial::before {content: \"\";position: absolute;border-left: 1px solid gray;box-sizing: border-box;top: 0;bottom: 0;left: 50%;z-index: 0;}#sk-container-id-1 div.sk-serial {display: flex;flex-direction: column;align-items: center;background-color: white;padding-right: 0.2em;padding-left: 0.2em;position: relative;}#sk-container-id-1 div.sk-item {position: relative;z-index: 1;}#sk-container-id-1 div.sk-parallel {display: flex;align-items: stretch;justify-content: center;background-color: white;position: relative;}#sk-container-id-1 div.sk-item::before, #sk-container-id-1 div.sk-parallel-item::before {content: \"\";position: absolute;border-left: 1px solid gray;box-sizing: border-box;top: 0;bottom: 0;left: 50%;z-index: -1;}#sk-container-id-1 div.sk-parallel-item {display: flex;flex-direction: column;z-index: 1;position: relative;background-color: white;}#sk-container-id-1 div.sk-parallel-item:first-child::after {align-self: flex-end;width: 50%;}#sk-container-id-1 div.sk-parallel-item:last-child::after {align-self: flex-start;width: 50%;}#sk-container-id-1 div.sk-parallel-item:only-child::after {width: 0;}#sk-container-id-1 div.sk-dashed-wrapped {border: 1px dashed gray;margin: 0 0.4em 0.5em 0.4em;box-sizing: border-box;padding-bottom: 0.4em;background-color: white;}#sk-container-id-1 div.sk-label label {font-family: monospace;font-weight: bold;display: inline-block;line-height: 1.2em;}#sk-container-id-1 div.sk-label-container {text-align: center;}#sk-container-id-1 div.sk-container {/* jupyter's `normalize.less` sets `[hidden] { display: none; }` but bootstrap.min.css set `[hidden] { display: none !important; }` so we also need the `!important` here to be able to override the default hidden behavior on the sphinx rendered scikit-learn.org. See: https://github.com/scikit-learn/scikit-learn/issues/21755 */display: inline-block !important;position: relative;}#sk-container-id-1 div.sk-text-repr-fallback {display: none;}</style><div id=\"sk-container-id-1\" class=\"sk-top-container\"><div class=\"sk-text-repr-fallback\"><pre>GaussianNB()</pre><b>In a Jupyter environment, please rerun this cell to show the HTML representation or trust the notebook. <br />On GitHub, the HTML representation is unable to render, please try loading this page with nbviewer.org.</b></div><div class=\"sk-container\" hidden><div class=\"sk-item\"><div class=\"sk-estimator sk-toggleable\"><input class=\"sk-toggleable__control sk-hidden--visually\" id=\"sk-estimator-id-1\" type=\"checkbox\" checked><label for=\"sk-estimator-id-1\" class=\"sk-toggleable__label sk-toggleable__label-arrow\">GaussianNB</label><div class=\"sk-toggleable__content\"><pre>GaussianNB()</pre></div></div></div></div></div>"
      ],
      "text/plain": [
       "GaussianNB()"
      ]
     },
     "execution_count": 16,
     "metadata": {},
     "output_type": "execute_result"
    }
   ],
   "source": [
    "model.fit(X_train, y_train)"
   ]
  },
  {
   "cell_type": "code",
   "execution_count": 17,
   "id": "ae142930",
   "metadata": {},
   "outputs": [
    {
     "data": {
      "text/plain": [
       "1.0"
      ]
     },
     "execution_count": 17,
     "metadata": {},
     "output_type": "execute_result"
    }
   ],
   "source": [
    "model.score(X_test,y_test)"
   ]
  },
  {
   "cell_type": "code",
   "execution_count": 18,
   "id": "82cd6b0f",
   "metadata": {},
   "outputs": [
    {
     "data": {
      "text/html": [
       "<div>\n",
       "<style scoped>\n",
       "    .dataframe tbody tr th:only-of-type {\n",
       "        vertical-align: middle;\n",
       "    }\n",
       "\n",
       "    .dataframe tbody tr th {\n",
       "        vertical-align: top;\n",
       "    }\n",
       "\n",
       "    .dataframe thead th {\n",
       "        text-align: right;\n",
       "    }\n",
       "</style>\n",
       "<table border=\"1\" class=\"dataframe\">\n",
       "  <thead>\n",
       "    <tr style=\"text-align: right;\">\n",
       "      <th></th>\n",
       "      <th>Age</th>\n",
       "      <th>Height (cm)</th>\n",
       "      <th>Weight (kg)</th>\n",
       "      <th>Income (USD)</th>\n",
       "      <th>Occupation_Analyst</th>\n",
       "      <th>Occupation_Architect</th>\n",
       "      <th>Occupation_Business Analyst</th>\n",
       "      <th>Occupation_Business Consultant</th>\n",
       "      <th>Occupation_CEO</th>\n",
       "      <th>Occupation_Doctor</th>\n",
       "      <th>...</th>\n",
       "      <th>Marital Status_Single</th>\n",
       "      <th>Marital Status_Widowed</th>\n",
       "      <th>Favorite Color_Blue</th>\n",
       "      <th>Favorite Color_Green</th>\n",
       "      <th>Favorite Color_Grey</th>\n",
       "      <th>Favorite Color_Orange</th>\n",
       "      <th>Favorite Color_Pink</th>\n",
       "      <th>Favorite Color_Purple</th>\n",
       "      <th>Favorite Color_Red</th>\n",
       "      <th>Favorite Color_Yellow</th>\n",
       "    </tr>\n",
       "  </thead>\n",
       "  <tbody>\n",
       "    <tr>\n",
       "      <th>55</th>\n",
       "      <td>30</td>\n",
       "      <td>182</td>\n",
       "      <td>83</td>\n",
       "      <td>95000</td>\n",
       "      <td>0</td>\n",
       "      <td>0</td>\n",
       "      <td>0</td>\n",
       "      <td>0</td>\n",
       "      <td>0</td>\n",
       "      <td>0</td>\n",
       "      <td>...</td>\n",
       "      <td>1</td>\n",
       "      <td>0</td>\n",
       "      <td>0</td>\n",
       "      <td>0</td>\n",
       "      <td>0</td>\n",
       "      <td>0</td>\n",
       "      <td>0</td>\n",
       "      <td>1</td>\n",
       "      <td>0</td>\n",
       "      <td>0</td>\n",
       "    </tr>\n",
       "    <tr>\n",
       "      <th>40</th>\n",
       "      <td>45</td>\n",
       "      <td>187</td>\n",
       "      <td>92</td>\n",
       "      <td>500000</td>\n",
       "      <td>0</td>\n",
       "      <td>0</td>\n",
       "      <td>0</td>\n",
       "      <td>0</td>\n",
       "      <td>1</td>\n",
       "      <td>0</td>\n",
       "      <td>...</td>\n",
       "      <td>0</td>\n",
       "      <td>0</td>\n",
       "      <td>0</td>\n",
       "      <td>0</td>\n",
       "      <td>0</td>\n",
       "      <td>0</td>\n",
       "      <td>0</td>\n",
       "      <td>0</td>\n",
       "      <td>0</td>\n",
       "      <td>1</td>\n",
       "    </tr>\n",
       "    <tr>\n",
       "      <th>19</th>\n",
       "      <td>44</td>\n",
       "      <td>160</td>\n",
       "      <td>58</td>\n",
       "      <td>150000</td>\n",
       "      <td>0</td>\n",
       "      <td>0</td>\n",
       "      <td>0</td>\n",
       "      <td>0</td>\n",
       "      <td>0</td>\n",
       "      <td>1</td>\n",
       "      <td>...</td>\n",
       "      <td>0</td>\n",
       "      <td>0</td>\n",
       "      <td>0</td>\n",
       "      <td>0</td>\n",
       "      <td>0</td>\n",
       "      <td>0</td>\n",
       "      <td>0</td>\n",
       "      <td>1</td>\n",
       "      <td>0</td>\n",
       "      <td>0</td>\n",
       "    </tr>\n",
       "    <tr>\n",
       "      <th>31</th>\n",
       "      <td>38</td>\n",
       "      <td>172</td>\n",
       "      <td>68</td>\n",
       "      <td>75000</td>\n",
       "      <td>0</td>\n",
       "      <td>0</td>\n",
       "      <td>0</td>\n",
       "      <td>0</td>\n",
       "      <td>0</td>\n",
       "      <td>0</td>\n",
       "      <td>...</td>\n",
       "      <td>0</td>\n",
       "      <td>0</td>\n",
       "      <td>0</td>\n",
       "      <td>0</td>\n",
       "      <td>0</td>\n",
       "      <td>0</td>\n",
       "      <td>0</td>\n",
       "      <td>0</td>\n",
       "      <td>0</td>\n",
       "      <td>1</td>\n",
       "    </tr>\n",
       "    <tr>\n",
       "      <th>115</th>\n",
       "      <td>41</td>\n",
       "      <td>184</td>\n",
       "      <td>85</td>\n",
       "      <td>110000</td>\n",
       "      <td>0</td>\n",
       "      <td>1</td>\n",
       "      <td>0</td>\n",
       "      <td>0</td>\n",
       "      <td>0</td>\n",
       "      <td>0</td>\n",
       "      <td>...</td>\n",
       "      <td>0</td>\n",
       "      <td>0</td>\n",
       "      <td>0</td>\n",
       "      <td>0</td>\n",
       "      <td>0</td>\n",
       "      <td>0</td>\n",
       "      <td>0</td>\n",
       "      <td>1</td>\n",
       "      <td>0</td>\n",
       "      <td>0</td>\n",
       "    </tr>\n",
       "  </tbody>\n",
       "</table>\n",
       "<p>5 rows × 36 columns</p>\n",
       "</div>"
      ],
      "text/plain": [
       "     Age  Height (cm)  Weight (kg)  Income (USD)  Occupation_Analyst  \\\n",
       "55    30          182           83         95000                   0   \n",
       "40    45          187           92        500000                   0   \n",
       "19    44          160           58        150000                   0   \n",
       "31    38          172           68         75000                   0   \n",
       "115   41          184           85        110000                   0   \n",
       "\n",
       "     Occupation_Architect  Occupation_Business Analyst  \\\n",
       "55                      0                            0   \n",
       "40                      0                            0   \n",
       "19                      0                            0   \n",
       "31                      0                            0   \n",
       "115                     1                            0   \n",
       "\n",
       "     Occupation_Business Consultant  Occupation_CEO  Occupation_Doctor  ...  \\\n",
       "55                                0               0                  0  ...   \n",
       "40                                0               1                  0  ...   \n",
       "19                                0               0                  1  ...   \n",
       "31                                0               0                  0  ...   \n",
       "115                               0               0                  0  ...   \n",
       "\n",
       "     Marital Status_Single  Marital Status_Widowed  Favorite Color_Blue  \\\n",
       "55                       1                       0                    0   \n",
       "40                       0                       0                    0   \n",
       "19                       0                       0                    0   \n",
       "31                       0                       0                    0   \n",
       "115                      0                       0                    0   \n",
       "\n",
       "     Favorite Color_Green  Favorite Color_Grey  Favorite Color_Orange  \\\n",
       "55                      0                    0                      0   \n",
       "40                      0                    0                      0   \n",
       "19                      0                    0                      0   \n",
       "31                      0                    0                      0   \n",
       "115                     0                    0                      0   \n",
       "\n",
       "     Favorite Color_Pink  Favorite Color_Purple  Favorite Color_Red  \\\n",
       "55                     0                      1                   0   \n",
       "40                     0                      0                   0   \n",
       "19                     0                      1                   0   \n",
       "31                     0                      0                   0   \n",
       "115                    0                      1                   0   \n",
       "\n",
       "     Favorite Color_Yellow  \n",
       "55                       0  \n",
       "40                       1  \n",
       "19                       0  \n",
       "31                       1  \n",
       "115                      0  \n",
       "\n",
       "[5 rows x 36 columns]"
      ]
     },
     "execution_count": 18,
     "metadata": {},
     "output_type": "execute_result"
    }
   ],
   "source": [
    "X_test[0:5]"
   ]
  },
  {
   "cell_type": "code",
   "execution_count": 19,
   "id": "998a0f0c",
   "metadata": {},
   "outputs": [
    {
     "data": {
      "text/plain": [
       "55     1\n",
       "40     1\n",
       "19     0\n",
       "31     0\n",
       "115    1\n",
       "Name: Gender_male, dtype: uint8"
      ]
     },
     "execution_count": 19,
     "metadata": {},
     "output_type": "execute_result"
    }
   ],
   "source": [
    "y_test[0:5]"
   ]
  },
  {
   "cell_type": "code",
   "execution_count": 20,
   "id": "e535852f",
   "metadata": {},
   "outputs": [
    {
     "data": {
      "text/plain": [
       "array([1, 1, 0, 0, 1], dtype=uint8)"
      ]
     },
     "execution_count": 20,
     "metadata": {},
     "output_type": "execute_result"
    }
   ],
   "source": [
    "model.predict(X_test[0:5])"
   ]
  },
  {
   "cell_type": "code",
   "execution_count": 21,
   "id": "e4cde23e",
   "metadata": {},
   "outputs": [
    {
     "data": {
      "text/plain": [
       "array([[1.55151879e-010, 1.00000000e+000],\n",
       "       [1.44473566e-136, 1.00000000e+000],\n",
       "       [9.56626065e-001, 4.33739346e-002],\n",
       "       [8.29301310e-001, 1.70698690e-001],\n",
       "       [1.11521707e-015, 1.00000000e+000],\n",
       "       [9.99012953e-001, 9.87047230e-004],\n",
       "       [9.39873368e-016, 1.00000000e+000],\n",
       "       [8.42678689e-006, 9.99991573e-001],\n",
       "       [1.00000000e+000, 1.67067640e-011],\n",
       "       [8.78187386e-009, 9.99999991e-001]])"
      ]
     },
     "execution_count": 21,
     "metadata": {},
     "output_type": "execute_result"
    }
   ],
   "source": [
    "model.predict_proba(X_test[:10])"
   ]
  },
  {
   "cell_type": "code",
   "execution_count": 22,
   "id": "7ed0f84d",
   "metadata": {},
   "outputs": [
    {
     "data": {
      "text/plain": [
       "array([1.        , 0.95238095, 1.        , 1.        , 1.        ])"
      ]
     },
     "execution_count": 22,
     "metadata": {},
     "output_type": "execute_result"
    }
   ],
   "source": [
    "cross_val_score(GaussianNB(),X_train, y_train, cv=5)"
   ]
  },
  {
   "cell_type": "code",
   "execution_count": null,
   "id": "0f3f63f3",
   "metadata": {},
   "outputs": [],
   "source": []
  }
 ],
 "metadata": {
  "kernelspec": {
   "display_name": "Python 3 (ipykernel)",
   "language": "python",
   "name": "python3"
  },
  "language_info": {
   "codemirror_mode": {
    "name": "ipython",
    "version": 3
   },
   "file_extension": ".py",
   "mimetype": "text/x-python",
   "name": "python",
   "nbconvert_exporter": "python",
   "pygments_lexer": "ipython3",
   "version": "3.11.2"
  }
 },
 "nbformat": 4,
 "nbformat_minor": 5
}
